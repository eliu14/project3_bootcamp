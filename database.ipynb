{
 "cells": [
  {
   "cell_type": "code",
   "execution_count": 54,
   "metadata": {},
   "outputs": [],
   "source": [
    "# https://www.geeksforgeeks.org/python-sqlite-creating-a-new-database/#\n",
    "\n",
    "from sqlalchemy import create_engine\n",
    "\n",
    "from sqlalchemy.orm import declarative_base, Session, relationship\n",
    "\n",
    "from sqlalchemy import Column, Integer, String, Float, DateTime, ForeignKey\n",
    "\n",
    "import sqlite3 \n",
    "\n",
    "from datetime import datetime"
   ]
  },
  {
   "cell_type": "code",
   "execution_count": 55,
   "metadata": {},
   "outputs": [
    {
     "name": "stdout",
     "output_type": "stream",
     "text": [
      "Database food_prices.sqlite formed.\n"
     ]
    }
   ],
   "source": [
    "food_prices_db = \"food_prices.sqlite\"\n",
    "  \n",
    "try: \n",
    "  conn = sqlite3.connect(food_prices_db) \n",
    "  print(f\"Database {food_prices_db} formed.\") \n",
    "except: \n",
    "  print(f\"Database {food_prices_db} not formed.\")"
   ]
  },
  {
   "cell_type": "code",
   "execution_count": 56,
   "metadata": {},
   "outputs": [],
   "source": [
    "Base = declarative_base()"
   ]
  },
  {
   "cell_type": "code",
   "execution_count": 57,
   "metadata": {},
   "outputs": [],
   "source": [
    "class Country(Base):\n",
    "    __tablename__ = 'countries'\n",
    "    id = Column(Integer, primary_key=True, autoincrement=True)\n",
    "    name = Column(String(56))\n",
    "    code = Column(String(3))\n",
    "    currency = Column(String(3))\n",
    "    food_products = relationship(\"Food\", back_populates=\"country\")"
   ]
  },
  {
   "cell_type": "code",
   "execution_count": 58,
   "metadata": {},
   "outputs": [],
   "source": [
    "class Food(Base):\n",
    "    __tablename__ = 'food_prices'\n",
    "    id = Column(Integer, primary_key=True, autoincrement=True)\n",
    "    name = Column(String(20))\n",
    "    date = Column(DateTime)\n",
    "    year = Column(Integer)\n",
    "    month = Column(Integer)\n",
    "    open = Column(Float)\n",
    "    high = Column(Float)\n",
    "    low = Column(Float)\n",
    "    close = Column(Float)\n",
    "    inflation = Column(Float)\n",
    "    trust = Column(Float)\n",
    "    country_id = Column(Integer, ForeignKey(\"countries.id\"))\n",
    "    country = relationship(\"Country\", back_populates=\"food_products\")"
   ]
  },
  {
   "cell_type": "code",
   "execution_count": 59,
   "metadata": {},
   "outputs": [],
   "source": [
    "country = Country(\n",
    "    name=\"Afghanistan\", \n",
    "    code=\"AFG\",\n",
    "    currency = \"AFN\"\n",
    "    )"
   ]
  },
  {
   "cell_type": "code",
   "execution_count": 60,
   "metadata": {},
   "outputs": [],
   "source": [
    "food_price = Food(\n",
    "    name = \"Bread\",\n",
    "    date = datetime.strptime(\"2017-01-01\", \"%Y-%m-%d\").date(),\n",
    "    year = 2017,\n",
    "    month = 1,\n",
    "    open = 32.43,\n",
    "    high = 32.65,\n",
    "    low = 32.03,\n",
    "    close = 32.4,\n",
    "    inflation = 29.37,\n",
    "    trust = 7.4,\n",
    "    country = country\n",
    ")"
   ]
  },
  {
   "cell_type": "code",
   "execution_count": 61,
   "metadata": {},
   "outputs": [],
   "source": [
    "engine = create_engine(\"sqlite:///food_prices.sqlite\")\n",
    "conn = engine.connect()"
   ]
  },
  {
   "cell_type": "code",
   "execution_count": 62,
   "metadata": {},
   "outputs": [],
   "source": [
    "Base.metadata.create_all(engine)\n",
    "session = Session(bind=engine)"
   ]
  },
  {
   "cell_type": "code",
   "execution_count": 63,
   "metadata": {},
   "outputs": [],
   "source": [
    "session.add(country)\n",
    "session.add(food_price)\n",
    "session.commit()"
   ]
  },
  {
   "cell_type": "code",
   "execution_count": 64,
   "metadata": {},
   "outputs": [
    {
     "name": "stdout",
     "output_type": "stream",
     "text": [
      "Afghanistan\n"
     ]
    }
   ],
   "source": [
    "country_list = session.query(Country)\n",
    "for country in country_list:\n",
    "    print(country.name)"
   ]
  },
  {
   "cell_type": "code",
   "execution_count": 65,
   "metadata": {},
   "outputs": [
    {
     "name": "stdout",
     "output_type": "stream",
     "text": [
      "Bread\n"
     ]
    }
   ],
   "source": [
    "food_list = session.query(Food)\n",
    "for food in food_list:\n",
    "    print(food.name)"
   ]
  },
  {
   "cell_type": "code",
   "execution_count": 67,
   "metadata": {},
   "outputs": [],
   "source": [
    "Base.metadata.drop_all(engine)\n",
    "conn.close()"
   ]
  },
  {
   "cell_type": "code",
   "execution_count": null,
   "metadata": {},
   "outputs": [],
   "source": []
  },
  {
   "cell_type": "code",
   "execution_count": null,
   "metadata": {},
   "outputs": [],
   "source": []
  },
  {
   "cell_type": "code",
   "execution_count": null,
   "metadata": {},
   "outputs": [],
   "source": []
  },
  {
   "cell_type": "code",
   "execution_count": null,
   "metadata": {},
   "outputs": [],
   "source": []
  }
 ],
 "metadata": {
  "kernelspec": {
   "display_name": "base",
   "language": "python",
   "name": "python3"
  },
  "language_info": {
   "codemirror_mode": {
    "name": "ipython",
    "version": 3
   },
   "file_extension": ".py",
   "mimetype": "text/x-python",
   "name": "python",
   "nbconvert_exporter": "python",
   "pygments_lexer": "ipython3",
   "version": "3.12.7"
  }
 },
 "nbformat": 4,
 "nbformat_minor": 2
}
