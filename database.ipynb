{
 "cells": [
  {
   "cell_type": "code",
   "execution_count": null,
   "metadata": {},
   "outputs": [],
   "source": [
    "# https://www.geeksforgeeks.org/python-sqlite-creating-a-new-database/#\n",
    "\n",
    "from sqlalchemy import create_engine, func\n",
    "\n",
    "import matplotlib.pyplot as plt\n",
    "\n",
    "from sqlalchemy.orm import declarative_base, Session, relationship\n",
    "\n",
    "from sqlalchemy import Column, Integer, String, Float, DateTime, ForeignKey\n",
    "\n",
    "from sqlalchemy.schema import ForeignKeyConstraint\n",
    "\n",
    "import sqlite3 \n",
    "\n",
    "import pandas as pd\n",
    "\n",
    "from datetime import datetime"
   ]
  },
  {
   "cell_type": "code",
   "execution_count": null,
   "metadata": {},
   "outputs": [],
   "source": [
    "df = pd.read_csv(\"Exports/cleaned.csv\")\n",
    "df.head()"
   ]
  },
  {
   "cell_type": "code",
   "execution_count": null,
   "metadata": {},
   "outputs": [],
   "source": [
    "market_df = df[[\"country\", \"mkt_name\", \"ISO3.1\", \"currency\"]]\n",
    "market_df.drop_duplicates(inplace=True)\n",
    "market_df.rename(columns={\"mkt_name\": \"market\", \"ISO3.1\": \"code\"}, inplace=True)\n",
    "market_df"
   ]
  },
  {
   "cell_type": "code",
   "execution_count": null,
   "metadata": {},
   "outputs": [],
   "source": [
    "market_df.columns"
   ]
  },
  {
   "cell_type": "code",
   "execution_count": null,
   "metadata": {},
   "outputs": [],
   "source": [
    "food_prices_db = \"food_prices.sqlite\"\n",
    "  \n",
    "try: \n",
    "  conn = sqlite3.connect(food_prices_db) \n",
    "  print(f\"Database {food_prices_db} formed.\") \n",
    "except: \n",
    "  print(f\"Database {food_prices_db} not formed.\")"
   ]
  },
  {
   "cell_type": "code",
   "execution_count": null,
   "metadata": {},
   "outputs": [],
   "source": [
    "Base = declarative_base()"
   ]
  },
  {
   "cell_type": "code",
   "execution_count": null,
   "metadata": {},
   "outputs": [],
   "source": [
    "class Market(Base):\n",
    "    __tablename__ = 'markets'\n",
    "    country = Column(String(50), primary_key=True)\n",
    "    market_name = Column(String(50), primary_key=True)\n",
    "    code = Column(String(3))\n",
    "    currency = Column(String(3))\n",
    "    food_products = relationship(\"Food\", back_populates=\"market\")"
   ]
  },
  {
   "cell_type": "code",
   "execution_count": null,
   "metadata": {},
   "outputs": [],
   "source": [
    "class Food(Base):\n",
    "    __tablename__ = 'food_prices'\n",
    "    id = Column(Integer, primary_key=True, autoincrement=True)\n",
    "    name = Column(String(20))\n",
    "    date = Column(DateTime)\n",
    "    open = Column(Float)\n",
    "    close = Column(Float)\n",
    "    inflation = Column(Float)\n",
    "    trust = Column(Float)\n",
    "    country = Column(String(50))\n",
    "    market_name = Column(String(50))\n",
    "    \n",
    "    __table_args__ = (\n",
    "        ForeignKeyConstraint(\n",
    "            ['country', 'market_name'],\n",
    "            ['markets.country', 'markets.market_name']\n",
    "        ),\n",
    "    )\n",
    "    \n",
    "    market = relationship(\"Market\", back_populates=\"food_products\")"
   ]
  },
  {
   "cell_type": "code",
   "execution_count": null,
   "metadata": {},
   "outputs": [],
   "source": [
    "engine = create_engine(\"sqlite:///food_prices.sqlite\")\n",
    "conn = engine.connect()"
   ]
  },
  {
   "cell_type": "code",
   "execution_count": null,
   "metadata": {},
   "outputs": [],
   "source": [
    "# Drop all tables before creating to prevent duplicates\n",
    "Base.metadata.drop_all(engine)\n",
    "Base.metadata.create_all(engine)\n",
    "session = Session(bind=engine)"
   ]
  },
  {
   "cell_type": "code",
   "execution_count": null,
   "metadata": {},
   "outputs": [],
   "source": [
    "# Insert data into the market table\n",
    "for index, row in market_df.iterrows():\n",
    "    market = Market(\n",
    "        country= row[\"country\"],\n",
    "        market_name = row[\"market\"], \n",
    "        code= row[\"code\"],\n",
    "        currency = row[\"currency\"]\n",
    "    )\n",
    "    session.add(market)"
   ]
  },
  {
   "cell_type": "code",
   "execution_count": null,
   "metadata": {},
   "outputs": [],
   "source": [
    "# Insert data into the food table\n",
    "food_df = df.drop(columns=[\"ISO3\", \"ISO3.1\", \"currency\", \"data_coverage\", \"data_coverage_recent\", \"index_confidence_score\", \"spatially_interpolated\", \"o_food_price_index\", \"c_food_price_index\", \"trust_food_price_index\"], axis=1)\n",
    "for index, row in food_df.iterrows():\n",
    "    row = row.dropna()\n",
    "    country = row[\"country\"]\n",
    "    market_name = row[\"mkt_name\"]\n",
    "    date = datetime.strptime(row[\"DATES\"], \"%Y-%m-%d\")\n",
    "\n",
    "    food_data = {}\n",
    "\n",
    "    print(f\"Inserting {market_name} of {country} {date} data...\")\n",
    "    # Extract food name from the column names using the .startswith method and assign data using a dictionary\n",
    "    for index, value in row.items():\n",
    "        if index.startswith(\"o_\"):\n",
    "            food = index.split(\"_\")[-1]\n",
    "            if food not in food_data:\n",
    "                food_data[food] = {}\n",
    "            food_data[food][\"open\"] = value\n",
    "        elif index.startswith(\"c_\"):\n",
    "            food_data[food][\"close\"] = value\n",
    "        elif index.startswith(\"trust_\"):\n",
    "            food_data[food][\"trust\"] = value\n",
    "        elif index.startswith(\"inflation_\"):\n",
    "            food_data[food][\"inflation\"] = value\n",
    "\n",
    "\n",
    "    for name, items in food_data.items():\n",
    "        open_value = items.get(\"open\", None)\n",
    "        close_value = items.get(\"close\", None)\n",
    "        inflation_value = items.get(\"inflation\", None)\n",
    "        trust_value = items.get(\"trust\", None)\n",
    "\n",
    "        food = Food(\n",
    "            name=name,\n",
    "            date=date,\n",
    "            open=open_value,\n",
    "            close=close_value,\n",
    "            inflation=inflation_value,\n",
    "            trust=trust_value,\n",
    "            country=country,\n",
    "            market_name=market_name,\n",
    "        )\n",
    "\n",
    "        try:\n",
    "            session.add(food)\n",
    "        except:\n",
    "            print(\"Error encountered!\")\n",
    "        else:\n",
    "            print(f\"Successfully added {name} data!\")"
   ]
  },
  {
   "cell_type": "code",
   "execution_count": null,
   "metadata": {},
   "outputs": [],
   "source": [
    "# Commit changes\n",
    "session.commit()"
   ]
  },
  {
   "cell_type": "code",
   "execution_count": null,
   "metadata": {},
   "outputs": [],
   "source": [
    "# Query market names\n",
    "market_list = session.query(Market)\n",
    "for market in market_list:\n",
    "    print(market.market_name)"
   ]
  },
  {
   "cell_type": "code",
   "execution_count": null,
   "metadata": {},
   "outputs": [],
   "source": [
    "# Query food names\n",
    "food_list = session.query(Food)\n",
    "for food in food_list:\n",
    "    print(food.name)"
   ]
  },
  {
   "cell_type": "code",
   "execution_count": null,
   "metadata": {},
   "outputs": [],
   "source": [
    "# Query Afghanistan food data\n",
    "market = session.query(Market).filter_by(country=\"Afghanistan\").first()\n",
    "\n",
    "# Access related food items\n",
    "for food in market.food_products:\n",
    "    print(f\"Food Name: {food.name}, Date: {food.date}, Open Price: {food.open}, Close Price: {food.close}, Trust: {food.trust}, Inflation: {food.inflation}\")"
   ]
  },
  {
   "cell_type": "code",
   "execution_count": null,
   "metadata": {},
   "outputs": [],
   "source": [
    "# Query the average open, close, inflation, and trust\n",
    "sel = [Food.name,\n",
    "       func.avg(Food.open),\n",
    "       func.avg(Food.close),\n",
    "       func.avg(Food.inflation),\n",
    "       func.avg(Food.trust)]\n",
    "april_averages = (\n",
    "    session.query(*sel)\n",
    "    .filter(\n",
    "        Food.market.has(country=\"Afghanistan\", market_name=\"Badakhshan\"),  \n",
    "        func.strftime(\"%m\", Food.date) == \"04\" \n",
    "    )\n",
    "    .group_by(Food.name)\n",
    "    .order_by(Food.name)\n",
    "    .all()\n",
    ")"
   ]
  },
  {
   "cell_type": "code",
   "execution_count": null,
   "metadata": {},
   "outputs": [],
   "source": [
    "# Graphing the results\n",
    "april_df = pd.DataFrame(april_averages, columns=['Food', 'open_avg', 'close_avg', 'inflation_avg', 'trust_avg'])\n",
    "april_df.set_index('Food', inplace=True)\n",
    "ax = april_df.plot.bar(figsize=(16, 9))\n",
    "for container in ax.containers:\n",
    "    ax.bar_label(container, fmt='%.2f')\n",
    "plt.xticks(rotation=0)\n",
    "plt.title(\"Average April Food Prices in Badakhsan, Afghanistan\")\n",
    "plt.tight_layout()\n",
    "plt.show()"
   ]
  },
  {
   "cell_type": "code",
   "execution_count": null,
   "metadata": {},
   "outputs": [],
   "source": [
    "#close session\n",
    "conn.close()"
   ]
  }
 ],
 "metadata": {
  "kernelspec": {
   "display_name": "base",
   "language": "python",
   "name": "python3"
  },
  "language_info": {
   "codemirror_mode": {
    "name": "ipython",
    "version": 3
   },
   "file_extension": ".py",
   "mimetype": "text/x-python",
   "name": "python",
   "nbconvert_exporter": "python",
   "pygments_lexer": "ipython3",
   "version": "3.12.7"
  }
 },
 "nbformat": 4,
 "nbformat_minor": 2
}
